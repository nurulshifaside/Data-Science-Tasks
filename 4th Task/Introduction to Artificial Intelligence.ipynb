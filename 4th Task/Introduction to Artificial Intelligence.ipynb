{
  "nbformat": 4,
  "nbformat_minor": 0,
  "metadata": {
    "colab": {
      "provenance": [],
      "toc_visible": true,
      "include_colab_link": true
    },
    "kernelspec": {
      "name": "python3",
      "display_name": "Python 3"
    },
    "language_info": {
      "name": "python"
    }
  },
  "cells": [
    {
      "cell_type": "markdown",
      "metadata": {
        "id": "view-in-github",
        "colab_type": "text"
      },
      "source": [
        "<a href=\"https://colab.research.google.com/github/nurulshifaside/Data-Science-Tasks/blob/main/4th%20Task/Introduction%20to%20Artificial%20Intelligence.ipynb\" target=\"_parent\"><img src=\"https://colab.research.google.com/assets/colab-badge.svg\" alt=\"Open In Colab\"/></a>"
      ]
    },
    {
      "cell_type": "markdown",
      "source": [
        "# Assignment 5 - Introduction to Artificial Intelligence"
      ],
      "metadata": {
        "id": "ONOVTjca0-g3"
      }
    },
    {
      "cell_type": "markdown",
      "source": [
        "**Team 7A**\n",
        "\n",
        "\n",
        "Anggota:\n",
        "1. Muhammad Fikri Abdillah Syaeba\n",
        "2. Agnes Theresia Siburian\n",
        "3. Raphael Junus Samson\n",
        "4. Nurul Shifa Maulina\n",
        "5. Angel Paulina Siahaan\n",
        "6. Octavia Kustiana\n",
        "7. Hanisa Feranti"
      ],
      "metadata": {
        "id": "RD1dRQS3xv5o"
      }
    },
    {
      "cell_type": "markdown",
      "source": [
        "## Question\n",
        "\n",
        "**2. Implementation of Artificial Intelligence**\n",
        "\n",
        "Text classification berdasarkan Bag-of-Words\n",
        "\n",
        "Tulis syntax di Google Colab:\n",
        "- Tentukan tiga topik terkait: Kesehatan, Olahraga, Keuangan.\n",
        "- Temukan teks/artikel sebagai dasar/pelatihan/training ketiga topik tersebut.\n",
        "- Hitung vektor Bag-of-Words untuk setiap topik.\n",
        "\n",
        "Klasifikasikan teks ini dalam topik yang benar:\n",
        "“Cristiano Ronaldo came off the bench to earn Manchester United a hard-fought 2-1 victory at Everton in the Premier League on Sunday, taking his career goal tally to 700 in the process. Just as United did last weekend in their derby mauling at the hands of local rivals Manchester City, they again found themselves behind early on at Goodison Park after Alex Iwobi curled a sublime strike into the net from 20 metres.”"
      ],
      "metadata": {
        "id": "Ku_rjp830E85"
      }
    },
    {
      "cell_type": "markdown",
      "source": [
        "###**1. Mengimpor Library yang Diperlukan**"
      ],
      "metadata": {
        "id": "1xnewCPBAUjv"
      }
    },
    {
      "cell_type": "code",
      "source": [
        "from nltk.tokenize import word_tokenize\n",
        "from nltk.corpus import stopwords\n",
        "from nltk.stem import WordNetLemmatizer"
      ],
      "metadata": {
        "id": "o7KKsmesXIto"
      },
      "execution_count": null,
      "outputs": []
    },
    {
      "cell_type": "code",
      "source": [
        "from sklearn.feature_extraction.text import CountVectorizer\n",
        "from sklearn.metrics.pairwise import cosine_similarity\n",
        "import pandas as pd\n",
        "import numpy as np"
      ],
      "metadata": {
        "id": "_oB-tN1O8zFQ"
      },
      "execution_count": null,
      "outputs": []
    },
    {
      "cell_type": "code",
      "source": [
        "import nltk\n",
        "nltk.download(\"popular\")\n",
        "from nltk.tokenize import sent_tokenize, word_tokenize"
      ],
      "metadata": {
        "colab": {
          "base_uri": "https://localhost:8080/"
        },
        "id": "IyNseSDS2Y7W",
        "outputId": "ab28f09d-dc26-440d-83ac-6f9dbea3ff4f"
      },
      "execution_count": null,
      "outputs": [
        {
          "output_type": "stream",
          "name": "stderr",
          "text": [
            "[nltk_data] Downloading collection 'popular'\n",
            "[nltk_data]    | \n",
            "[nltk_data]    | Downloading package cmudict to /root/nltk_data...\n",
            "[nltk_data]    |   Unzipping corpora/cmudict.zip.\n",
            "[nltk_data]    | Downloading package gazetteers to /root/nltk_data...\n",
            "[nltk_data]    |   Unzipping corpora/gazetteers.zip.\n",
            "[nltk_data]    | Downloading package genesis to /root/nltk_data...\n",
            "[nltk_data]    |   Unzipping corpora/genesis.zip.\n",
            "[nltk_data]    | Downloading package gutenberg to /root/nltk_data...\n",
            "[nltk_data]    |   Unzipping corpora/gutenberg.zip.\n",
            "[nltk_data]    | Downloading package inaugural to /root/nltk_data...\n",
            "[nltk_data]    |   Unzipping corpora/inaugural.zip.\n",
            "[nltk_data]    | Downloading package movie_reviews to\n",
            "[nltk_data]    |     /root/nltk_data...\n",
            "[nltk_data]    |   Unzipping corpora/movie_reviews.zip.\n",
            "[nltk_data]    | Downloading package names to /root/nltk_data...\n",
            "[nltk_data]    |   Unzipping corpora/names.zip.\n",
            "[nltk_data]    | Downloading package shakespeare to /root/nltk_data...\n",
            "[nltk_data]    |   Unzipping corpora/shakespeare.zip.\n",
            "[nltk_data]    | Downloading package stopwords to /root/nltk_data...\n",
            "[nltk_data]    |   Unzipping corpora/stopwords.zip.\n",
            "[nltk_data]    | Downloading package treebank to /root/nltk_data...\n",
            "[nltk_data]    |   Unzipping corpora/treebank.zip.\n",
            "[nltk_data]    | Downloading package twitter_samples to\n",
            "[nltk_data]    |     /root/nltk_data...\n",
            "[nltk_data]    |   Unzipping corpora/twitter_samples.zip.\n",
            "[nltk_data]    | Downloading package omw to /root/nltk_data...\n",
            "[nltk_data]    | Downloading package omw-1.4 to /root/nltk_data...\n",
            "[nltk_data]    | Downloading package wordnet to /root/nltk_data...\n",
            "[nltk_data]    | Downloading package wordnet2021 to /root/nltk_data...\n",
            "[nltk_data]    | Downloading package wordnet31 to /root/nltk_data...\n",
            "[nltk_data]    | Downloading package wordnet_ic to /root/nltk_data...\n",
            "[nltk_data]    |   Unzipping corpora/wordnet_ic.zip.\n",
            "[nltk_data]    | Downloading package words to /root/nltk_data...\n",
            "[nltk_data]    |   Unzipping corpora/words.zip.\n",
            "[nltk_data]    | Downloading package maxent_ne_chunker to\n",
            "[nltk_data]    |     /root/nltk_data...\n",
            "[nltk_data]    |   Unzipping chunkers/maxent_ne_chunker.zip.\n",
            "[nltk_data]    | Downloading package punkt to /root/nltk_data...\n",
            "[nltk_data]    |   Unzipping tokenizers/punkt.zip.\n",
            "[nltk_data]    | Downloading package snowball_data to\n",
            "[nltk_data]    |     /root/nltk_data...\n",
            "[nltk_data]    | Downloading package averaged_perceptron_tagger to\n",
            "[nltk_data]    |     /root/nltk_data...\n",
            "[nltk_data]    |   Unzipping taggers/averaged_perceptron_tagger.zip.\n",
            "[nltk_data]    | \n",
            "[nltk_data]  Done downloading collection popular\n"
          ]
        }
      ]
    },
    {
      "cell_type": "markdown",
      "source": [
        "###**2. Membaca Dataframe yang Telah Dibuat**"
      ],
      "metadata": {
        "id": "Wa8WFDO_4kJi"
      }
    },
    {
      "cell_type": "markdown",
      "source": [
        "Membaca dataframe yang berisi teks-teks untuk setiap topik."
      ],
      "metadata": {
        "id": "MO4V8egequyV"
      }
    },
    {
      "cell_type": "code",
      "source": [
        "df_team_7A = pd.read_csv('https://docs.google.com/spreadsheets/d/e/2PACX-1vSd3tKknOavUlxa2YC8qmigvvaFpMvmGs9jxGyInhqUYE8ETJ4dWfJR8CTT4KPguB2pOoKkB-ZtZ21c/pub?gid=0&single=true&output=csv')\n",
        "df_team_7A"
      ],
      "metadata": {
        "colab": {
          "base_uri": "https://localhost:8080/",
          "height": 269
        },
        "id": "wcVdYTTqOV15",
        "outputId": "cde065a6-c236-45e1-fdb1-5ba2499b783b"
      },
      "execution_count": null,
      "outputs": [
        {
          "output_type": "execute_result",
          "data": {
            "text/plain": [
              "                                                Text      Topic     Name\n",
              "0  In today's rapidly evolving financial landscap...   Keuangan    Fikri\n",
              "1  The associations between short or long sleep d...  Kesehatan  Raphael\n",
              "2  The final Merseyside derby of Jürgen Klopp’s L...   Olahraga  Raphael\n",
              "3  The village head of her community told Baitul ...   Keuangan    Nurul\n",
              "4  The Dangers of Smoking\\n\\nSmoking remains a le...  Kesehatan   Viiaaa\n",
              "5  Real Madrid defeats Manchester City in penalty...   Olahraga    Agnes\n",
              "6  Who said you cannot do an exercise while sitti...   Olahraga    Angel"
            ],
            "text/html": [
              "\n",
              "  <div id=\"df-d2017513-f62b-4f82-b248-d6d012cad169\" class=\"colab-df-container\">\n",
              "    <div>\n",
              "<style scoped>\n",
              "    .dataframe tbody tr th:only-of-type {\n",
              "        vertical-align: middle;\n",
              "    }\n",
              "\n",
              "    .dataframe tbody tr th {\n",
              "        vertical-align: top;\n",
              "    }\n",
              "\n",
              "    .dataframe thead th {\n",
              "        text-align: right;\n",
              "    }\n",
              "</style>\n",
              "<table border=\"1\" class=\"dataframe\">\n",
              "  <thead>\n",
              "    <tr style=\"text-align: right;\">\n",
              "      <th></th>\n",
              "      <th>Text</th>\n",
              "      <th>Topic</th>\n",
              "      <th>Name</th>\n",
              "    </tr>\n",
              "  </thead>\n",
              "  <tbody>\n",
              "    <tr>\n",
              "      <th>0</th>\n",
              "      <td>In today's rapidly evolving financial landscap...</td>\n",
              "      <td>Keuangan</td>\n",
              "      <td>Fikri</td>\n",
              "    </tr>\n",
              "    <tr>\n",
              "      <th>1</th>\n",
              "      <td>The associations between short or long sleep d...</td>\n",
              "      <td>Kesehatan</td>\n",
              "      <td>Raphael</td>\n",
              "    </tr>\n",
              "    <tr>\n",
              "      <th>2</th>\n",
              "      <td>The final Merseyside derby of Jürgen Klopp’s L...</td>\n",
              "      <td>Olahraga</td>\n",
              "      <td>Raphael</td>\n",
              "    </tr>\n",
              "    <tr>\n",
              "      <th>3</th>\n",
              "      <td>The village head of her community told Baitul ...</td>\n",
              "      <td>Keuangan</td>\n",
              "      <td>Nurul</td>\n",
              "    </tr>\n",
              "    <tr>\n",
              "      <th>4</th>\n",
              "      <td>The Dangers of Smoking\\n\\nSmoking remains a le...</td>\n",
              "      <td>Kesehatan</td>\n",
              "      <td>Viiaaa</td>\n",
              "    </tr>\n",
              "    <tr>\n",
              "      <th>5</th>\n",
              "      <td>Real Madrid defeats Manchester City in penalty...</td>\n",
              "      <td>Olahraga</td>\n",
              "      <td>Agnes</td>\n",
              "    </tr>\n",
              "    <tr>\n",
              "      <th>6</th>\n",
              "      <td>Who said you cannot do an exercise while sitti...</td>\n",
              "      <td>Olahraga</td>\n",
              "      <td>Angel</td>\n",
              "    </tr>\n",
              "  </tbody>\n",
              "</table>\n",
              "</div>\n",
              "    <div class=\"colab-df-buttons\">\n",
              "\n",
              "  <div class=\"colab-df-container\">\n",
              "    <button class=\"colab-df-convert\" onclick=\"convertToInteractive('df-d2017513-f62b-4f82-b248-d6d012cad169')\"\n",
              "            title=\"Convert this dataframe to an interactive table.\"\n",
              "            style=\"display:none;\">\n",
              "\n",
              "  <svg xmlns=\"http://www.w3.org/2000/svg\" height=\"24px\" viewBox=\"0 -960 960 960\">\n",
              "    <path d=\"M120-120v-720h720v720H120Zm60-500h600v-160H180v160Zm220 220h160v-160H400v160Zm0 220h160v-160H400v160ZM180-400h160v-160H180v160Zm440 0h160v-160H620v160ZM180-180h160v-160H180v160Zm440 0h160v-160H620v160Z\"/>\n",
              "  </svg>\n",
              "    </button>\n",
              "\n",
              "  <style>\n",
              "    .colab-df-container {\n",
              "      display:flex;\n",
              "      gap: 12px;\n",
              "    }\n",
              "\n",
              "    .colab-df-convert {\n",
              "      background-color: #E8F0FE;\n",
              "      border: none;\n",
              "      border-radius: 50%;\n",
              "      cursor: pointer;\n",
              "      display: none;\n",
              "      fill: #1967D2;\n",
              "      height: 32px;\n",
              "      padding: 0 0 0 0;\n",
              "      width: 32px;\n",
              "    }\n",
              "\n",
              "    .colab-df-convert:hover {\n",
              "      background-color: #E2EBFA;\n",
              "      box-shadow: 0px 1px 2px rgba(60, 64, 67, 0.3), 0px 1px 3px 1px rgba(60, 64, 67, 0.15);\n",
              "      fill: #174EA6;\n",
              "    }\n",
              "\n",
              "    .colab-df-buttons div {\n",
              "      margin-bottom: 4px;\n",
              "    }\n",
              "\n",
              "    [theme=dark] .colab-df-convert {\n",
              "      background-color: #3B4455;\n",
              "      fill: #D2E3FC;\n",
              "    }\n",
              "\n",
              "    [theme=dark] .colab-df-convert:hover {\n",
              "      background-color: #434B5C;\n",
              "      box-shadow: 0px 1px 3px 1px rgba(0, 0, 0, 0.15);\n",
              "      filter: drop-shadow(0px 1px 2px rgba(0, 0, 0, 0.3));\n",
              "      fill: #FFFFFF;\n",
              "    }\n",
              "  </style>\n",
              "\n",
              "    <script>\n",
              "      const buttonEl =\n",
              "        document.querySelector('#df-d2017513-f62b-4f82-b248-d6d012cad169 button.colab-df-convert');\n",
              "      buttonEl.style.display =\n",
              "        google.colab.kernel.accessAllowed ? 'block' : 'none';\n",
              "\n",
              "      async function convertToInteractive(key) {\n",
              "        const element = document.querySelector('#df-d2017513-f62b-4f82-b248-d6d012cad169');\n",
              "        const dataTable =\n",
              "          await google.colab.kernel.invokeFunction('convertToInteractive',\n",
              "                                                    [key], {});\n",
              "        if (!dataTable) return;\n",
              "\n",
              "        const docLinkHtml = 'Like what you see? Visit the ' +\n",
              "          '<a target=\"_blank\" href=https://colab.research.google.com/notebooks/data_table.ipynb>data table notebook</a>'\n",
              "          + ' to learn more about interactive tables.';\n",
              "        element.innerHTML = '';\n",
              "        dataTable['output_type'] = 'display_data';\n",
              "        await google.colab.output.renderOutput(dataTable, element);\n",
              "        const docLink = document.createElement('div');\n",
              "        docLink.innerHTML = docLinkHtml;\n",
              "        element.appendChild(docLink);\n",
              "      }\n",
              "    </script>\n",
              "  </div>\n",
              "\n",
              "\n",
              "<div id=\"df-b919bcd5-9062-4cd8-bcdd-3bf464ae84b4\">\n",
              "  <button class=\"colab-df-quickchart\" onclick=\"quickchart('df-b919bcd5-9062-4cd8-bcdd-3bf464ae84b4')\"\n",
              "            title=\"Suggest charts\"\n",
              "            style=\"display:none;\">\n",
              "\n",
              "<svg xmlns=\"http://www.w3.org/2000/svg\" height=\"24px\"viewBox=\"0 0 24 24\"\n",
              "     width=\"24px\">\n",
              "    <g>\n",
              "        <path d=\"M19 3H5c-1.1 0-2 .9-2 2v14c0 1.1.9 2 2 2h14c1.1 0 2-.9 2-2V5c0-1.1-.9-2-2-2zM9 17H7v-7h2v7zm4 0h-2V7h2v10zm4 0h-2v-4h2v4z\"/>\n",
              "    </g>\n",
              "</svg>\n",
              "  </button>\n",
              "\n",
              "<style>\n",
              "  .colab-df-quickchart {\n",
              "      --bg-color: #E8F0FE;\n",
              "      --fill-color: #1967D2;\n",
              "      --hover-bg-color: #E2EBFA;\n",
              "      --hover-fill-color: #174EA6;\n",
              "      --disabled-fill-color: #AAA;\n",
              "      --disabled-bg-color: #DDD;\n",
              "  }\n",
              "\n",
              "  [theme=dark] .colab-df-quickchart {\n",
              "      --bg-color: #3B4455;\n",
              "      --fill-color: #D2E3FC;\n",
              "      --hover-bg-color: #434B5C;\n",
              "      --hover-fill-color: #FFFFFF;\n",
              "      --disabled-bg-color: #3B4455;\n",
              "      --disabled-fill-color: #666;\n",
              "  }\n",
              "\n",
              "  .colab-df-quickchart {\n",
              "    background-color: var(--bg-color);\n",
              "    border: none;\n",
              "    border-radius: 50%;\n",
              "    cursor: pointer;\n",
              "    display: none;\n",
              "    fill: var(--fill-color);\n",
              "    height: 32px;\n",
              "    padding: 0;\n",
              "    width: 32px;\n",
              "  }\n",
              "\n",
              "  .colab-df-quickchart:hover {\n",
              "    background-color: var(--hover-bg-color);\n",
              "    box-shadow: 0 1px 2px rgba(60, 64, 67, 0.3), 0 1px 3px 1px rgba(60, 64, 67, 0.15);\n",
              "    fill: var(--button-hover-fill-color);\n",
              "  }\n",
              "\n",
              "  .colab-df-quickchart-complete:disabled,\n",
              "  .colab-df-quickchart-complete:disabled:hover {\n",
              "    background-color: var(--disabled-bg-color);\n",
              "    fill: var(--disabled-fill-color);\n",
              "    box-shadow: none;\n",
              "  }\n",
              "\n",
              "  .colab-df-spinner {\n",
              "    border: 2px solid var(--fill-color);\n",
              "    border-color: transparent;\n",
              "    border-bottom-color: var(--fill-color);\n",
              "    animation:\n",
              "      spin 1s steps(1) infinite;\n",
              "  }\n",
              "\n",
              "  @keyframes spin {\n",
              "    0% {\n",
              "      border-color: transparent;\n",
              "      border-bottom-color: var(--fill-color);\n",
              "      border-left-color: var(--fill-color);\n",
              "    }\n",
              "    20% {\n",
              "      border-color: transparent;\n",
              "      border-left-color: var(--fill-color);\n",
              "      border-top-color: var(--fill-color);\n",
              "    }\n",
              "    30% {\n",
              "      border-color: transparent;\n",
              "      border-left-color: var(--fill-color);\n",
              "      border-top-color: var(--fill-color);\n",
              "      border-right-color: var(--fill-color);\n",
              "    }\n",
              "    40% {\n",
              "      border-color: transparent;\n",
              "      border-right-color: var(--fill-color);\n",
              "      border-top-color: var(--fill-color);\n",
              "    }\n",
              "    60% {\n",
              "      border-color: transparent;\n",
              "      border-right-color: var(--fill-color);\n",
              "    }\n",
              "    80% {\n",
              "      border-color: transparent;\n",
              "      border-right-color: var(--fill-color);\n",
              "      border-bottom-color: var(--fill-color);\n",
              "    }\n",
              "    90% {\n",
              "      border-color: transparent;\n",
              "      border-bottom-color: var(--fill-color);\n",
              "    }\n",
              "  }\n",
              "</style>\n",
              "\n",
              "  <script>\n",
              "    async function quickchart(key) {\n",
              "      const quickchartButtonEl =\n",
              "        document.querySelector('#' + key + ' button');\n",
              "      quickchartButtonEl.disabled = true;  // To prevent multiple clicks.\n",
              "      quickchartButtonEl.classList.add('colab-df-spinner');\n",
              "      try {\n",
              "        const charts = await google.colab.kernel.invokeFunction(\n",
              "            'suggestCharts', [key], {});\n",
              "      } catch (error) {\n",
              "        console.error('Error during call to suggestCharts:', error);\n",
              "      }\n",
              "      quickchartButtonEl.classList.remove('colab-df-spinner');\n",
              "      quickchartButtonEl.classList.add('colab-df-quickchart-complete');\n",
              "    }\n",
              "    (() => {\n",
              "      let quickchartButtonEl =\n",
              "        document.querySelector('#df-b919bcd5-9062-4cd8-bcdd-3bf464ae84b4 button');\n",
              "      quickchartButtonEl.style.display =\n",
              "        google.colab.kernel.accessAllowed ? 'block' : 'none';\n",
              "    })();\n",
              "  </script>\n",
              "</div>\n",
              "    </div>\n",
              "  </div>\n"
            ],
            "application/vnd.google.colaboratory.intrinsic+json": {
              "type": "dataframe",
              "variable_name": "df_team_7A",
              "summary": "{\n  \"name\": \"df_team_7A\",\n  \"rows\": 7,\n  \"fields\": [\n    {\n      \"column\": \"Text\",\n      \"properties\": {\n        \"dtype\": \"string\",\n        \"num_unique_values\": 7,\n        \"samples\": [\n          \"In today's rapidly evolving financial landscape, it's crucial for individuals to stay informed and make sound financial decisions. One key aspect of financial literacy is understanding the importance of budgeting. Budgeting allows individuals to track their income and expenses, helping them manage their finances effectively and achieve their financial goals. By creating a budget, individuals can prioritize their spending, identify areas where they can save, and plan for future expenses. Moreover, budgeting can help individuals avoid debt and build a strong financial foundation. Overall, budgeting is a fundamental financial skill that can empower individuals to take control of their finances and secure a stable financial future.\",\n          \"The associations between short or long sleep durations and diabetes mellitus (DM) and coronary heart disease (CHD), respectively, have been established in multiple studies over several decades and in different populations. Despite overwhelming evidence and the known epidemiological associations between short and long sleep durations and cardiometabolic disease, much less is known about the potential biological intermediates that may explain these associations. One prospective study showed that short sleep duration is associated with inflammatory markers such as C-reactive protein (CRP) and interleukin 6 (IL-6), and a meta-analysis found that when compared to a sleep duration of 7\\u20138 h, sleep duration\\u2009>\\u20098 h is associated with increased CRP and IL-6. These associations are not inconsequential as systemic inflammatory markers such as CRP and IL-6 in turn are associated with cardiometabolic outcomes, e.g., CHD. One limitation, however, of existing studies is the high probability of reverse causality where the disease process impacts sleep. Another important limitation may be the inflammatory markers themselves; they are nonspecific to sleep duration or the health outcome and thus offer only limited information about possible pathways that link sleep duration with adverse health outcomes.\",\n          \"Real Madrid defeats Manchester City in penalty shootout to reach Champions League semifinals\\r\\n\\r\\nReal Madrid triumphed over Manchester City in a tense penalty shootout, securing their place in the Champions League semifinals against Bayern Munich. Antonio R\\u00fcdiger scored the decisive penalty for Real Madrid, concluding a thrilling tie with eight goals across two games. Despite strong opposition and a 3-3 draw in the first leg, Real Madrid\\u2019s solid defense and determination led to their victory. The match ended 1-1, with a 4-4 aggregate after extra-time. The penalty shootout saw Real Madrid win 4-3, demonstrating the team\\u2019s commitment and resilience. Meanwhile, Manchester City\\u2019s hopes for a treble win have been dashed.\"\n        ],\n        \"semantic_type\": \"\",\n        \"description\": \"\"\n      }\n    },\n    {\n      \"column\": \"Topic\",\n      \"properties\": {\n        \"dtype\": \"category\",\n        \"num_unique_values\": 3,\n        \"samples\": [\n          \"Keuangan\",\n          \"Kesehatan\",\n          \"Olahraga\"\n        ],\n        \"semantic_type\": \"\",\n        \"description\": \"\"\n      }\n    },\n    {\n      \"column\": \"Name\",\n      \"properties\": {\n        \"dtype\": \"string\",\n        \"num_unique_values\": 6,\n        \"samples\": [\n          \"Fikri\",\n          \"Raphael\",\n          \"Angel\"\n        ],\n        \"semantic_type\": \"\",\n        \"description\": \"\"\n      }\n    }\n  ]\n}"
            }
          },
          "metadata": {},
          "execution_count": 4
        }
      ]
    },
    {
      "cell_type": "markdown",
      "source": [
        "###**3. Menggabungkan Teks dari Dataframe ke dalam List**"
      ],
      "metadata": {
        "id": "yHzHurz31UY-"
      }
    },
    {
      "cell_type": "markdown",
      "source": [
        "Menggabungkan teks-teks dalam masing-masing topik ke dalam satu list gabungan."
      ],
      "metadata": {
        "id": "SZoN60MZrDXy"
      }
    },
    {
      "cell_type": "code",
      "source": [
        "# Make a list of each text topic\n",
        "texts_sport = df_team_7A[df_team_7A['Topic'] == 'Olahraga']['Text'].tolist()\n",
        "texts_medical = df_team_7A[df_team_7A['Topic'] == 'Kesehatan']['Text'].tolist()\n",
        "texts_finance = df_team_7A[df_team_7A['Topic'] == 'Keuangan']['Text'].tolist()\n",
        "\n",
        "# Combine texts from the same topic\n",
        "combined_texts_sport = ' '.join(texts_sport)\n",
        "combined_texts_medical = ' '.join(texts_medical)\n",
        "combined_texts_finance = ' '.join(texts_finance)\n",
        "\n",
        "# Combines all text in one list\n",
        "all_texts = []\n",
        "all_texts.extend([combined_texts_sport])\n",
        "all_texts.extend([combined_texts_medical])\n",
        "all_texts.extend([combined_texts_finance])"
      ],
      "metadata": {
        "id": "bt0l0v0C2oos"
      },
      "execution_count": null,
      "outputs": []
    },
    {
      "cell_type": "markdown",
      "source": [
        "###**4. Membersihkan Teks**"
      ],
      "metadata": {
        "id": "HujiNY_06sqz"
      }
    },
    {
      "cell_type": "markdown",
      "source": [
        "Melakukan pembersihan teks dengan menghapus stopwords dan mengaplikasikan lemmatization."
      ],
      "metadata": {
        "id": "76wekTdvhHak"
      }
    },
    {
      "cell_type": "code",
      "source": [
        "# Cleaning Teks\n",
        "lemmatizer = WordNetLemmatizer() # Create object for lemmatizer\n",
        "bow = [] # Bag of Word\n",
        "kumpulan_text = []\n",
        "for text in all_texts:\n",
        "    words  = word_tokenize(text)\n",
        "    all_texts = [lemmatizer.lemmatize(word) for word in words if word not in set(stopwords.words('english'))]\n",
        "    bow += all_texts\n",
        "    text = ' '.join(all_texts)\n",
        "    kumpulan_text.append(text)\n",
        "bow = set(bow)\n",
        "print(bow)\n",
        "print(kumpulan_text)"
      ],
      "metadata": {
        "colab": {
          "base_uri": "https://localhost:8080/"
        },
        "id": "qd4iSm9C31JV",
        "outputId": "bcb49785-517e-42ea-ff42-a941253e2b00"
      },
      "execution_count": null,
      "outputs": [
        {
          "output_type": "stream",
          "name": "stdout",
          "text": [
            "{'inconsequential', 'organ', ';', 'League', 'ended', 'defense', 'Park', 'compared', 'penalty', 'well-being', 'thus', ',', 'crowd', 'sitting', 'association', 'filled', 'allows', 'One', 'scored', 'adverse', 'take', 'track', '2022', 'rapidly', 'continues', 'offer', '4-3', 'team', '>', 'chronic', 'worker', 'Since', 'reverse', 'worldwide', 'Jürgen', '7–8', 'marker', 'way', 'spending', 'tobacco', 'certain', 'Real', 'tasted', 'benefiting', 'coronary', 'well-documented', 'remains', 'information', 'thrive', 'Victory', 'back', 'bellowed', 'enjoy', 'outcome', 'community', 'manage', 'help', 'income', 'remembered', 'prevent', 'defeat', 'reign', 'league', 'much', 'semifinal', 'year', 'almost', 'embrace', 'programme', 'might', 'high', 'From', 'work', 'certainly', 'treble', 'known', 'respectively', 'control', 'lung', 'Exercise', 'budget', 'need', 'thrilling', 'informed', 'effectively', 'Officer', 'home', 'time', 'saw', 'Jarrad', 'City', 'Moreover', 'habit', 'budgeting', 'Manchester', 'tie', 'blow', 'making', 'dashed', 'By', '(', 'triumphed', '’', 'increased', 'Despite', 'h', 'stress', 'financial', 'explain', '6', 'meta-analysis', 'interleukin', 'local', 'prospective', 'limited', '2,300', 'securing', '”', 'DM', 'affected', 'two', 'deserved', 'damaging', 'anytime', 'capacity', 'build', 'place', 'Let', 'leading', 'SGD', 'title', 'These', 'say', 'showed', 'ZISWAF', 'several', 'You', 'win', 'consigned', 'management', 'area', 'driven', 'district', 'may', 'smoke-free', 'Budgeting', 'study', 'causing', 'smoke', 'Province', 'Antonio', 'free', 'disbursed', 'An', 'possible', 'BMA', 'secure', 'performance', 'draw', 'keep', '1-1', 'office', 'healthy', 'said', 'signing', 'Baitul', 'Aceh', '“', 'collect', 'preventable', 'resilience', 'related', 'derby', 'Who', 'stable', 'evolving', 'Fund', 'told', 'UNICEF', 'cancer', 'led', 'life', 'literacy', '600,000', 'victory', '4-4', 'mellitus', 'vitality', 'crucial', 'inflammatory', 'overwhelming', 'decisive', 'match', 'disease', 'e.g.', 'cardiometabolic', 'Implementing', 'creating', 'Overall', 'muscle', 'decision', 'outstanding', 'evidence', 'duration', 'associated', 'finance', 'sanitation', 'biological', 'distributes', 'avoid', 'diabetes', 'foundation', 'infection', 'eight', 'health', 'immune', 'nonspecific', 'Here', 'landscape', 'make', 'Development', 'technique', 'intermediate', 'For', 'sleep', 'CRP', 'eating', 'That', 'plan', 'epidemiological', 'identify', 'however', 'game', 'risk', 'vital', 'susceptible', 'disrupt', 'Dangers', 'alms', 'neck', 'existing', 'cause', 'probability', 'regular', 'le', 'family', 'meaningful', 'CHD', 'child', 'commitment', 'So', 'leg', 'turn', 'dedicated', ')', 'Madrid', 'Branthwaite', 'nutritious', 'strong', 'reach', 'stay', 'protein', 'In', 'tense', 'aggregate', 'chair', 'responsive', 'debt', 'head', 'village', 'Sean', 'choose', 'concluding', 'Mal', 'Everton', 'system', 'reduce', 'Premier', 'institution', 'dream', 'status', 'adopting', 'It', 'Rüdiger', 'night', 'established', 'quitting', 'approximately', 'Champions', 'extra-time', 'across', 'damage', '.', 'heart', 'began', 'well', 'Z4D', 'lost', 'hardship', 'important', 'activity', 'link', 'imperious', 'often-troubled', 'Dyche', 'long', 'significantly', 'fundamental', 'Klopp', 'best', 'determination', 'decade', 'final', 'hope', '8', 'today', 'toxic', 'smoking', 'issue', 'Another', 'future', 'anywhere', \"'s\", 'supported', '10', 'potential', 'nutrition-related', 'Zakat', '14', 'Munich', 'expense', 'If', 'harmful', 'causality', 'exercise', 'top-flight', 'Goodison', 'fit', 'impact', 'short', 'solid', 'triumphant', 'population', 'key', 'lifestyle', 'body', 'joint', 'hugely', 'Sitting', '15', 'Liverpool', 'cigarette', 'Islamic', 'importance', 'illness', 'job', 'C-reactive', 'Bayern', 'multiple', 'Meanwhile', 'Merseyside', 'opposition', 'sign', 'chemical', 'break', 'adopted', 'effort', '3-3', 'assistance', 'seat', 'found', 'including', 'individual', 'Dominic', 'shot', 'aspect', 'goal', 'The', 'smoker', 'limitation', '23', 'rejoiced', 'many', 'systemic', 'achieve', '$', 'weaken', 'USD', 'understanding', 'sweeter', 'sound', 'skill', '688', 'pain', 'first', 'demonstrating', 'manages', '?', 'deeply', 'ensure', 'calling', 'Calvert-Lewin', 'different', 'Smoking', 'shootout', 'pathway', 'save', 'empower', 'household', 'provide', 'part', 'process', 'prioritize', 'rival', 'economic', 'helping', 'IL-6', 'move'}\n",
            "['The final Merseyside derby Jürgen Klopp ’ Liverpool reign might well remembered final blow dream signing Premier League title . For first time 14 year , first time Klopp , Everton triumphant local rival Goodison Park . Victory tasted sweeter Sean Dyche ’ team almost certainly securing top-flight status expense Liverpool ’ title shot . “ You lost league Goodison Park , ” home crowd bellowed rejoiced deserved Everton victory , outstanding Everton performance best night Dyche ’ often-troubled reign . The imperious Jarrad Branthwaite Dominic Calvert-Lewin scored goal consigned Liverpool hugely damaging defeat . Real Madrid defeat Manchester City penalty shootout reach Champions League semifinal Real Madrid triumphed Manchester City tense penalty shootout , securing place Champions League semifinal Bayern Munich . Antonio Rüdiger scored decisive penalty Real Madrid , concluding thrilling tie eight goal across two game . Despite strong opposition 3-3 draw first leg , Real Madrid ’ solid defense determination led victory . The match ended 1-1 , 4-4 aggregate extra-time . The penalty shootout saw Real Madrid win 4-3 , demonstrating team ’ commitment resilience . Meanwhile , Manchester City ’ hope treble win dashed . Who said exercise sitting office ? Exercise activity anytime anywhere , including chair work . Sitting long work make muscle tense causing muscle pain certain part neck back . If continues long time , habit disrupt health job . So , prevent , need exercise office keep body fit healthy work . Here 10 way exercise office time move seat .', \"The association short long sleep duration diabetes mellitus ( DM ) coronary heart disease ( CHD ) , respectively , established multiple study several decade different population . Despite overwhelming evidence known epidemiological association short long sleep duration cardiometabolic disease , much le known potential biological intermediate may explain association . One prospective study showed short sleep duration associated inflammatory marker C-reactive protein ( CRP ) interleukin 6 ( IL-6 ) , meta-analysis found compared sleep duration 7–8 h , sleep duration > 8 h associated increased CRP IL-6 . These association inconsequential systemic inflammatory marker CRP IL-6 turn associated cardiometabolic outcome , e.g. , CHD . One limitation , however , existing study high probability reverse causality disease process impact sleep . Another important limitation may inflammatory marker ; nonspecific sleep duration health outcome thus offer limited information possible pathway link sleep duration adverse health outcome . The Dangers Smoking Smoking remains leading cause preventable disease worldwide . From lung cancer heart disease , health risk associated smoking well-documented . The toxic chemical tobacco smoke damage vital organ weaken immune system , making smoker susceptible infection chronic illness . It 's time break free harmful habit embrace healthy lifestyle . By quitting smoking adopting nutritious eating habit , regular exercise , stress management technique , individual significantly reduce risk disease enjoy life filled vitality well-being . Let 's choose health cigarette thrive smoke-free future . That sign adopted healthy life .\", \"In today 's rapidly evolving financial landscape , 's crucial individual stay informed make sound financial decision . One key aspect financial literacy understanding importance budgeting . Budgeting allows individual track income expense , helping manage finance effectively achieve financial goal . By creating budget , individual prioritize spending , identify area save , plan future expense . Moreover , budgeting help individual avoid debt build strong financial foundation . Overall , budgeting fundamental financial skill empower individual take control finance secure stable financial future . The village head community told Baitul Mal Aceh ( BMA ) , local Islamic finance institution collect , manages distributes Islamic alms began provide assistance Zakat Development ( Z4D ) programme . UNICEF , supported joint SGD Fund , build capacity BMA help ensure programme responsive issue related child . Since 2022 , BMA disbursed $ 600,000 USD Islamic Fund ( ZISWAF ) , benefiting 688 household approximately 2,300 child 23 district across Aceh Province affected economic , sanitation nutrition-related hardship . For many BMA , effort deeply meaningful . An Implementing Officer BMA dedicated 15 year life effort , say worker driven help family Aceh “ calling heart ” .\"]\n"
          ]
        }
      ]
    },
    {
      "cell_type": "markdown",
      "source": [
        "###**5. Memasukkan, Membersihkan, dan Membuat Vektor pada Teks Baru**"
      ],
      "metadata": {
        "id": "LqolES_U713j"
      }
    },
    {
      "cell_type": "markdown",
      "source": [
        "Membuat vektor Bag-of-Words untuk setiap teks, termasuk teks baru yang akan diklasifikasikan."
      ],
      "metadata": {
        "id": "WqxMbgTShSKw"
      }
    },
    {
      "cell_type": "code",
      "source": [
        "# A new text to be classified based on topic\n",
        "query_text = \"Cristiano Ronaldo came off the bench to earn Manchester United a hard-fought 2-1 victory at Everton in the Premier League on Sunday, taking his career goal tally to 700 in the process. Just as United did last weekend in their derby mauling at the hands of local rivals Manchester City, they again found themselves behind early on at Goodison Park after Alex Iwobi curled a sublime strike into the net from 20 metres.\"\n",
        "query_words = word_tokenize(query_text)\n",
        "query_words_clean = [lemmatizer.lemmatize(word) for word in query_words if word not in set(stopwords.words('english'))]\n",
        "query_kumpulan_kata = [word for word in query_words_clean if word in set(bow)]\n",
        "query_kumpulan_text = ' '.join(query_kumpulan_kata)\n",
        "kumpulan_text.append(query_kumpulan_text)\n",
        "\n",
        "cv = CountVectorizer() # Creating Object for CountVectorizer\n",
        "bow_vectors = cv.fit_transform(kumpulan_text).toarray()\n",
        "print(bow_vectors)\n",
        "print(len(bow_vectors[0]))"
      ],
      "metadata": {
        "colab": {
          "base_uri": "https://localhost:8080/"
        },
        "id": "_x874fxo3GPx",
        "outputId": "1d60ec8b-22dc-4ee9-bc02-c3dcddbf93f9"
      },
      "execution_count": null,
      "outputs": [
        {
          "output_type": "stream",
          "name": "stdout",
          "text": [
            "[[0 1 1 ... 0 0 0]\n",
            " [0 0 0 ... 0 0 0]\n",
            " [1 0 0 ... 1 1 1]\n",
            " [0 0 0 ... 0 0 0]]\n",
            "395\n"
          ]
        }
      ]
    },
    {
      "cell_type": "markdown",
      "source": [
        "###**6. Menghitung Persentase Similarity**"
      ],
      "metadata": {
        "id": "MRQcAkR-9ZZK"
      }
    },
    {
      "cell_type": "markdown",
      "source": [
        "Menghitung persentase kesamaan antara vektor teks baru dengan vektor topik yang sudah ada."
      ],
      "metadata": {
        "id": "UjlEe9m9hW9S"
      }
    },
    {
      "cell_type": "code",
      "source": [
        "# Normalize the BoW vectors\n",
        "bow_texts_norm = []\n",
        "for x in bow_vectors:\n",
        "  length = (sum(i*i for i in x)) ** 0.5\n",
        "  bow_norm = x / length\n",
        "  bow_texts_norm.append(bow_norm)\n",
        "\n",
        "# Compute similarity using dot product\n",
        "similarity_vector = []\n",
        "bow_norm_query = bow_texts_norm[3]\n",
        "for x in bow_texts_norm[:3]:\n",
        "  similarity_vector.append(sum(i*j for i,j in zip(x,bow_norm_query)))\n",
        "\n",
        "# Calculate the percentage of each topic\n",
        "sport_similarity_percentage = (similarity_vector[0]) * 100\n",
        "medical_similarity_percentage = (similarity_vector[1]) * 100\n",
        "finance_similarity_percentage = (similarity_vector[2]) * 100\n",
        "\n",
        "# Prints the percentage of each topic with two decimal places after the comma\n",
        "print(\"Persentase kesamaan dengan topik olahraga: {:.2f}%\".format(sport_similarity_percentage))\n",
        "print(\"Persentase kesamaan dengan topik kesehatan: {:.2f}%\".format(medical_similarity_percentage))\n",
        "print(\"Persentase kesamaan dengan topik keuangan: {:.2f}%\".format(finance_similarity_percentage))"
      ],
      "metadata": {
        "colab": {
          "base_uri": "https://localhost:8080/"
        },
        "id": "0Qdi2HX43JDQ",
        "outputId": "a0c3ee40-de87-4197-8f8e-afc25ed7d233"
      },
      "execution_count": null,
      "outputs": [
        {
          "output_type": "stream",
          "name": "stdout",
          "text": [
            "Persentase kesamaan dengan topik olahraga: 34.65%\n",
            "Persentase kesamaan dengan topik kesehatan: 2.27%\n",
            "Persentase kesamaan dengan topik keuangan: 2.82%\n"
          ]
        }
      ]
    },
    {
      "cell_type": "markdown",
      "source": [
        "### **7. Menentukan Topik Teks**\n"
      ],
      "metadata": {
        "id": "eTN5Jjt_hkBl"
      }
    },
    {
      "cell_type": "markdown",
      "source": [
        "Menentukan topik yang memiliki persentase kesamaan tertinggi sebagai klasifikasi teks."
      ],
      "metadata": {
        "id": "GzyZOhpph-Fw"
      }
    },
    {
      "cell_type": "code",
      "source": [
        "# Find the highest similarity\n",
        "max_similatity = similarity_vector.index(max(similarity_vector))\n",
        "if (max_similatity == 0):\n",
        "  print (\"Teks Diklasifikasikan sebagai Teks Olahraga\")\n",
        "elif (max_similatity == 1):\n",
        "  print (\"Teks Diklasifikasikan sebagai Teks Kesehatan\")\n",
        "elif (max_similatity == 2):\n",
        "  print (\"Teks Diklasifikasikan sebagai Teks Keuangan\")"
      ],
      "metadata": {
        "colab": {
          "base_uri": "https://localhost:8080/"
        },
        "id": "y8GrrxxPi0HO",
        "outputId": "7679dd93-d467-4878-fead-158a9470256e"
      },
      "execution_count": null,
      "outputs": [
        {
          "output_type": "stream",
          "name": "stdout",
          "text": [
            "Teks Diklasifikasikan sebagai Teks Olahraga\n"
          ]
        }
      ]
    },
    {
      "cell_type": "markdown",
      "source": [
        " Teks yang diberikan berhasil diklasifikasikan sebagai **Teks Olahraga** dengan persentase kesamaan sebesar **34.65%**. Persentase kesamaan dengan topik kesehatan dan keuangan jauh lebih rendah, yaitu **2.27%** dan **2.82%** secara berturut-turut. Oleh karena itu, kesimpulan dari hasil implementasi ini adalah bahwa teks tersebut dapat diklasifikasikan sebagai teks olahraga berdasarkan model Bag-of-Words yang telah dibangun."
      ],
      "metadata": {
        "id": "VGxiuCikgMpU"
      }
    }
  ]
}